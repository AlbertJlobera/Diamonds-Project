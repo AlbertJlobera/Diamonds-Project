{
 "cells": [
  {
   "cell_type": "code",
   "execution_count": 1,
   "metadata": {},
   "outputs": [],
   "source": [
    "import pandas as pd\n",
    "import numpy as np\n",
    "from sklearn.preprocessing import RobustScaler\n",
    "from sklearn.model_selection import train_test_split\n",
    "from sklearn.model_selection import cross_val_score, KFold\n",
    "from sklearn.metrics import mean_squared_error\n",
    "from math import sqrt\n",
    "from sklearn.model_selection import cross_val_score\n",
    "from sklearn.ensemble import RandomForestRegressor\n",
    "from sklearn.experimental import enable_hist_gradient_boosting\n",
    "from sklearn.ensemble import HistGradientBoostingRegressor\n",
    "from sklearn.ensemble import GradientBoostingRegressor\n",
    "from sklearn.neighbors import KNeighborsRegressor\n",
    "from sklearn.svm import LinearSVR\n",
    "from sklearn.calibration import CalibratedClassifierCV"
   ]
  },
  {
   "cell_type": "code",
   "execution_count": 12,
   "metadata": {},
   "outputs": [],
   "source": [
    "t_clean = pd.read_csv('Output/Clean/train_clean.csv')"
   ]
  },
  {
   "cell_type": "code",
   "execution_count": 3,
   "metadata": {},
   "outputs": [
    {
     "data": {
      "text/html": [
       "<div>\n",
       "<style scoped>\n",
       "    .dataframe tbody tr th:only-of-type {\n",
       "        vertical-align: middle;\n",
       "    }\n",
       "\n",
       "    .dataframe tbody tr th {\n",
       "        vertical-align: top;\n",
       "    }\n",
       "\n",
       "    .dataframe thead th {\n",
       "        text-align: right;\n",
       "    }\n",
       "</style>\n",
       "<table border=\"1\" class=\"dataframe\">\n",
       "  <thead>\n",
       "    <tr style=\"text-align: right;\">\n",
       "      <th></th>\n",
       "      <th>Unnamed: 0</th>\n",
       "      <th>carat</th>\n",
       "      <th>cut</th>\n",
       "      <th>color</th>\n",
       "      <th>clarity</th>\n",
       "      <th>depth</th>\n",
       "      <th>table</th>\n",
       "      <th>price</th>\n",
       "    </tr>\n",
       "  </thead>\n",
       "  <tbody>\n",
       "    <tr>\n",
       "      <th>Unnamed: 0</th>\n",
       "      <td>1.000000</td>\n",
       "      <td>0.005524</td>\n",
       "      <td>0.002122</td>\n",
       "      <td>-0.000942</td>\n",
       "      <td>-0.005803</td>\n",
       "      <td>0.008138</td>\n",
       "      <td>-0.007051</td>\n",
       "      <td>0.007212</td>\n",
       "    </tr>\n",
       "    <tr>\n",
       "      <th>carat</th>\n",
       "      <td>0.005524</td>\n",
       "      <td>1.000000</td>\n",
       "      <td>0.133226</td>\n",
       "      <td>0.285737</td>\n",
       "      <td>0.354717</td>\n",
       "      <td>0.029414</td>\n",
       "      <td>0.181273</td>\n",
       "      <td>0.921887</td>\n",
       "    </tr>\n",
       "    <tr>\n",
       "      <th>cut</th>\n",
       "      <td>0.002122</td>\n",
       "      <td>0.133226</td>\n",
       "      <td>1.000000</td>\n",
       "      <td>0.020164</td>\n",
       "      <td>0.190364</td>\n",
       "      <td>0.216858</td>\n",
       "      <td>0.435731</td>\n",
       "      <td>0.052736</td>\n",
       "    </tr>\n",
       "    <tr>\n",
       "      <th>color</th>\n",
       "      <td>-0.000942</td>\n",
       "      <td>0.285737</td>\n",
       "      <td>0.020164</td>\n",
       "      <td>1.000000</td>\n",
       "      <td>-0.023630</td>\n",
       "      <td>0.048637</td>\n",
       "      <td>0.022557</td>\n",
       "      <td>0.166340</td>\n",
       "    </tr>\n",
       "    <tr>\n",
       "      <th>clarity</th>\n",
       "      <td>-0.005803</td>\n",
       "      <td>0.354717</td>\n",
       "      <td>0.190364</td>\n",
       "      <td>-0.023630</td>\n",
       "      <td>1.000000</td>\n",
       "      <td>0.070008</td>\n",
       "      <td>0.161193</td>\n",
       "      <td>0.146991</td>\n",
       "    </tr>\n",
       "    <tr>\n",
       "      <th>depth</th>\n",
       "      <td>0.008138</td>\n",
       "      <td>0.029414</td>\n",
       "      <td>0.216858</td>\n",
       "      <td>0.048637</td>\n",
       "      <td>0.070008</td>\n",
       "      <td>1.000000</td>\n",
       "      <td>-0.288987</td>\n",
       "      <td>-0.009228</td>\n",
       "    </tr>\n",
       "    <tr>\n",
       "      <th>table</th>\n",
       "      <td>-0.007051</td>\n",
       "      <td>0.181273</td>\n",
       "      <td>0.435731</td>\n",
       "      <td>0.022557</td>\n",
       "      <td>0.161193</td>\n",
       "      <td>-0.288987</td>\n",
       "      <td>1.000000</td>\n",
       "      <td>0.127338</td>\n",
       "    </tr>\n",
       "    <tr>\n",
       "      <th>price</th>\n",
       "      <td>0.007212</td>\n",
       "      <td>0.921887</td>\n",
       "      <td>0.052736</td>\n",
       "      <td>0.166340</td>\n",
       "      <td>0.146991</td>\n",
       "      <td>-0.009228</td>\n",
       "      <td>0.127338</td>\n",
       "      <td>1.000000</td>\n",
       "    </tr>\n",
       "  </tbody>\n",
       "</table>\n",
       "</div>"
      ],
      "text/plain": [
       "            Unnamed: 0     carat       cut     color   clarity     depth  \\\n",
       "Unnamed: 0    1.000000  0.005524  0.002122 -0.000942 -0.005803  0.008138   \n",
       "carat         0.005524  1.000000  0.133226  0.285737  0.354717  0.029414   \n",
       "cut           0.002122  0.133226  1.000000  0.020164  0.190364  0.216858   \n",
       "color        -0.000942  0.285737  0.020164  1.000000 -0.023630  0.048637   \n",
       "clarity      -0.005803  0.354717  0.190364 -0.023630  1.000000  0.070008   \n",
       "depth         0.008138  0.029414  0.216858  0.048637  0.070008  1.000000   \n",
       "table        -0.007051  0.181273  0.435731  0.022557  0.161193 -0.288987   \n",
       "price         0.007212  0.921887  0.052736  0.166340  0.146991 -0.009228   \n",
       "\n",
       "               table     price  \n",
       "Unnamed: 0 -0.007051  0.007212  \n",
       "carat       0.181273  0.921887  \n",
       "cut         0.435731  0.052736  \n",
       "color       0.022557  0.166340  \n",
       "clarity     0.161193  0.146991  \n",
       "depth      -0.288987 -0.009228  \n",
       "table       1.000000  0.127338  \n",
       "price       0.127338  1.000000  "
      ]
     },
     "execution_count": 3,
     "metadata": {},
     "output_type": "execute_result"
    }
   ],
   "source": [
    "new_correlation = t_clean.corr()\n",
    "new_correlation"
   ]
  },
  {
   "cell_type": "code",
   "execution_count": 4,
   "metadata": {},
   "outputs": [],
   "source": [
    "X = t_clean[[\"carat\", \"cut\", \"color\", \"clarity\", \"depth\", \"table\"]]#, \"x\", \"y\", \"z\"]]\n",
    "y = t_clean[\"price\"]"
   ]
  },
  {
   "cell_type": "code",
   "execution_count": 5,
   "metadata": {},
   "outputs": [
    {
     "data": {
      "text/plain": [
       "array([[ 0.56043956, -0.5       ,  0.25      ,  0.        ,  0.5       ,\n",
       "         0.        ],\n",
       "       [-0.46153846,  0.5       , -0.75      , -0.5       ,  0.91666667,\n",
       "        -0.2       ],\n",
       "       [-0.30769231,  0.        , -0.25      , -0.25      , -0.25      ,\n",
       "         0.2       ],\n",
       "       ...,\n",
       "       [-0.14285714,  0.5       ,  0.5       ,  0.        ,  0.16666667,\n",
       "        -0.4       ],\n",
       "       [ 0.34065934,  0.5       , -0.25      , -1.        , -0.91666667,\n",
       "         1.        ],\n",
       "       [-0.17582418, -0.5       , -0.5       ,  0.5       , -0.58333333,\n",
       "         0.        ]])"
      ]
     },
     "execution_count": 5,
     "metadata": {},
     "output_type": "execute_result"
    }
   ],
   "source": [
    "RobustScaler(quantile_range=(15, 85)).fit_transform(X)"
   ]
  },
  {
   "cell_type": "code",
   "execution_count": 6,
   "metadata": {},
   "outputs": [],
   "source": [
    "X_train, X_test, y_train, y_test = train_test_split(X, y, test_size=0.2)"
   ]
  },
  {
   "cell_type": "code",
   "execution_count": 7,
   "metadata": {},
   "outputs": [],
   "source": [
    "kfold = KFold(n_splits=5, shuffle=True, random_state=20)"
   ]
  },
  {
   "cell_type": "code",
   "execution_count": 8,
   "metadata": {},
   "outputs": [
    {
     "name": "stdout",
     "output_type": "stream",
     "text": [
      "Training model: Linear\n",
      "0.7430233457497863\n",
      "Training model: neighbors\n",
      "0.7493482643628001\n",
      "Training model: histboosting\n",
      "0.9810957042293815\n",
      "Training model: histboosting0.2\n",
      "0.9808730954429207\n",
      "Training model: forest300,50\n",
      "0.9795630315959905\n",
      "Training model: Gradientboosting\n",
      "0.9754857916948294\n"
     ]
    }
   ],
   "source": [
    "models = {\n",
    "    \"Linear\": LinearSVR(),\n",
    "    \"neighbors\": KNeighborsRegressor(),\n",
    "    \"histboosting\": HistGradientBoostingRegressor(),\n",
    "    \"histboosting0.2\": HistGradientBoostingRegressor(learning_rate=0.2),\n",
    "    \"forest300,50\": RandomForestRegressor(n_estimators=300, max_depth=10),\n",
    "    \"Gradientboosting\" : GradientBoostingRegressor()\n",
    "}\n",
    "for name, model in models.items():\n",
    "#    scores = cross_val_score(model, X, y, cv=10)\n",
    "#    print(f\"({name}) acccuracy={np.mean(scores)}\")\n",
    "    \n",
    "    print(f\"Training model: {name}\")\n",
    "    model.fit(X_train, y_train)\n",
    "    print(np.mean(cross_val_score(model, X_train, y_train, scoring='r2', cv=kfold, n_jobs=2)))"
   ]
  }
 ],
 "metadata": {
  "kernelspec": {
   "display_name": "Python 3",
   "language": "python",
   "name": "python3"
  },
  "language_info": {
   "codemirror_mode": {
    "name": "ipython",
    "version": 3
   },
   "file_extension": ".py",
   "mimetype": "text/x-python",
   "name": "python",
   "nbconvert_exporter": "python",
   "pygments_lexer": "ipython3",
   "version": "3.8.2"
  }
 },
 "nbformat": 4,
 "nbformat_minor": 4
}
